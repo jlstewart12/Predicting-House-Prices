{
 "cells": [
  {
   "cell_type": "markdown",
   "metadata": {},
   "source": [
    "# Predicting House Prices using Linear Regression\n",
    "\n",
    "**Jeremy_Stewart**"
   ]
  },
  {
   "cell_type": "markdown",
   "metadata": {},
   "source": [
    "# Index\n",
    "\n",
    "- [Abstract](#Abstract)\n",
    "- [1. Introduction](#1.-Introduction)\n",
    "- [2. The Data](#2.-The-Data)\n",
    "    - [2.1 Import the Data](#2.1-Import-the-Data)\n",
    "    - [2.2 Data Exploration](#2.2-Data-Exploration)\n",
    "    - [2.3 Data Preparation](#2.3-Data-Preparation)\n",
    "    - [2.4 Correlation](#2.4-Correlation)\n",
    "- [3. Project Description](#3.-Project-Description)\n",
    "    - [3.1 Linear Regression](#3.1-Linear-Regression)\n",
    "    - [3.2 Analysis](#3.2-Analysis)\n",
    "    - [3.3 Results](#3.3-Results)\n",
    "    - [3.4 Verify Your Model Against Test Data](#3.4-Verify-Your-Model-Against-Test-Data)\n",
    "- [Conclusion](#Conclusion)\n",
    "- [References](#References)"
   ]
  },
  {
   "cell_type": "markdown",
   "metadata": {},
   "source": [
    "[Back to top](#Index)\n",
    "\n",
    "\n",
    "##  Abstract\n",
    "\n",
    "The goal here is to predict the sale prices of a house by considering changes in other attributes and using the relationship between the independent and dependent variables."
   ]
  },
  {
   "cell_type": "markdown",
   "metadata": {},
   "source": [
    "[Back to top](#Index)\n",
    "\n",
    "\n",
    "## 1. Introduction\n",
    "\n",
    "This project begins with some exploratory analysis to reach a better understanding of the source data. After the necessary libraries are imported, the housing data is read in from a csv and then analyzed to determine the underlying distribution. Data is further explored through visualizations to uncover the relationships between variables that are deemed critical to optimizing the sale price prediction model. Missing data is also removed to further optimize the model. After determining which independent variables correlate best with the sale price, multiple linear regression is performed to predict the prices and then tested for accuracy."
   ]
  },
  {
   "cell_type": "markdown",
   "metadata": {},
   "source": [
    "[Back to top](#Index)\n",
    "\n",
    "## 2. The Data"
   ]
  },
  {
   "cell_type": "markdown",
   "metadata": {},
   "source": [
    "### 2.1 Import the Data\n",
    "\n",
    "Import the necessary libraries and the data for the project. Include any auxiliary pandas *functions* that can be used to retrieve preliminary information about your data.\n",
    "\n",
    "Make sure to include a description of the data."
   ]
  },
  {
   "cell_type": "code",
   "execution_count": 1,
   "metadata": {},
   "outputs": [],
   "source": [
    "import pandas as pd\n",
    "import numpy as np\n",
    "import seaborn as sns\n",
    "from matplotlib import pyplot as plt\n",
    "from sklearn import linear_model"
   ]
  },
  {
   "cell_type": "code",
   "execution_count": 2,
   "metadata": {},
   "outputs": [
    {
     "data": {
      "text/plain": [
       "(100, 82)"
      ]
     },
     "execution_count": 2,
     "metadata": {},
     "output_type": "execute_result"
    }
   ],
   "source": [
    "data = pd.read_csv('houseSmallData/houseSmallData.csv')\n",
    "train = data.iloc[0:100,:]\n",
    "train.shape"
   ]
  },
  {
   "cell_type": "code",
   "execution_count": 3,
   "metadata": {},
   "outputs": [
    {
     "name": "stdout",
     "output_type": "stream",
     "text": [
      "<class 'pandas.core.frame.DataFrame'>\n",
      "RangeIndex: 100 entries, 0 to 99\n",
      "Data columns (total 82 columns):\n",
      " #   Column         Non-Null Count  Dtype  \n",
      "---  ------         --------------  -----  \n",
      " 0   Unnamed: 0     100 non-null    int64  \n",
      " 1   Id             100 non-null    int64  \n",
      " 2   MSSubClass     100 non-null    int64  \n",
      " 3   MSZoning       100 non-null    object \n",
      " 4   LotFrontage    86 non-null     float64\n",
      " 5   LotArea        100 non-null    int64  \n",
      " 6   Street         100 non-null    object \n",
      " 7   Alley          6 non-null      object \n",
      " 8   LotShape       100 non-null    object \n",
      " 9   LandContour    100 non-null    object \n",
      " 10  Utilities      100 non-null    object \n",
      " 11  LotConfig      100 non-null    object \n",
      " 12  LandSlope      100 non-null    object \n",
      " 13  Neighborhood   100 non-null    object \n",
      " 14  Condition1     100 non-null    object \n",
      " 15  Condition2     100 non-null    object \n",
      " 16  BldgType       100 non-null    object \n",
      " 17  HouseStyle     100 non-null    object \n",
      " 18  OverallQual    100 non-null    int64  \n",
      " 19  OverallCond    100 non-null    int64  \n",
      " 20  YearBuilt      100 non-null    int64  \n",
      " 21  YearRemodAdd   100 non-null    int64  \n",
      " 22  RoofStyle      100 non-null    object \n",
      " 23  RoofMatl       100 non-null    object \n",
      " 24  Exterior1st    100 non-null    object \n",
      " 25  Exterior2nd    100 non-null    object \n",
      " 26  MasVnrType     100 non-null    object \n",
      " 27  MasVnrArea     100 non-null    float64\n",
      " 28  ExterQual      100 non-null    object \n",
      " 29  ExterCond      100 non-null    object \n",
      " 30  Foundation     100 non-null    object \n",
      " 31  BsmtQual       97 non-null     object \n",
      " 32  BsmtCond       97 non-null     object \n",
      " 33  BsmtExposure   97 non-null     object \n",
      " 34  BsmtFinType1   97 non-null     object \n",
      " 35  BsmtFinSF1     100 non-null    int64  \n",
      " 36  BsmtFinType2   97 non-null     object \n",
      " 37  BsmtFinSF2     100 non-null    int64  \n",
      " 38  BsmtUnfSF      100 non-null    int64  \n",
      " 39  TotalBsmtSF    100 non-null    int64  \n",
      " 40  Heating        100 non-null    object \n",
      " 41  HeatingQC      100 non-null    object \n",
      " 42  CentralAir     100 non-null    object \n",
      " 43  Electrical     100 non-null    object \n",
      " 44  1stFlrSF       100 non-null    int64  \n",
      " 45  2ndFlrSF       100 non-null    int64  \n",
      " 46  LowQualFinSF   100 non-null    int64  \n",
      " 47  GrLivArea      100 non-null    int64  \n",
      " 48  BsmtFullBath   100 non-null    int64  \n",
      " 49  BsmtHalfBath   100 non-null    int64  \n",
      " 50  FullBath       100 non-null    int64  \n",
      " 51  HalfBath       100 non-null    int64  \n",
      " 52  BedroomAbvGr   100 non-null    int64  \n",
      " 53  KitchenAbvGr   100 non-null    int64  \n",
      " 54  KitchenQual    100 non-null    object \n",
      " 55  TotRmsAbvGrd   100 non-null    int64  \n",
      " 56  Functional     100 non-null    object \n",
      " 57  Fireplaces     100 non-null    int64  \n",
      " 58  FireplaceQu    46 non-null     object \n",
      " 59  GarageType     94 non-null     object \n",
      " 60  GarageYrBlt    94 non-null     float64\n",
      " 61  GarageFinish   94 non-null     object \n",
      " 62  GarageCars     100 non-null    int64  \n",
      " 63  GarageArea     100 non-null    int64  \n",
      " 64  GarageQual     94 non-null     object \n",
      " 65  GarageCond     94 non-null     object \n",
      " 66  PavedDrive     100 non-null    object \n",
      " 67  WoodDeckSF     100 non-null    int64  \n",
      " 68  OpenPorchSF    100 non-null    int64  \n",
      " 69  EnclosedPorch  100 non-null    int64  \n",
      " 70  3SsnPorch      100 non-null    int64  \n",
      " 71  ScreenPorch    100 non-null    int64  \n",
      " 72  PoolArea       100 non-null    int64  \n",
      " 73  PoolQC         0 non-null      float64\n",
      " 74  Fence          23 non-null     object \n",
      " 75  MiscFeature    9 non-null      object \n",
      " 76  MiscVal        100 non-null    int64  \n",
      " 77  MoSold         100 non-null    int64  \n",
      " 78  YrSold         100 non-null    int64  \n",
      " 79  SaleType       100 non-null    object \n",
      " 80  SaleCondition  100 non-null    object \n",
      " 81  SalePrice      100 non-null    int64  \n",
      "dtypes: float64(4), int64(36), object(42)\n",
      "memory usage: 64.2+ KB\n"
     ]
    }
   ],
   "source": [
    "data.info()"
   ]
  },
  {
   "cell_type": "code",
   "execution_count": 4,
   "metadata": {},
   "outputs": [
    {
     "data": {
      "text/html": [
       "<div>\n",
       "<style scoped>\n",
       "    .dataframe tbody tr th:only-of-type {\n",
       "        vertical-align: middle;\n",
       "    }\n",
       "\n",
       "    .dataframe tbody tr th {\n",
       "        vertical-align: top;\n",
       "    }\n",
       "\n",
       "    .dataframe thead th {\n",
       "        text-align: right;\n",
       "    }\n",
       "</style>\n",
       "<table border=\"1\" class=\"dataframe\">\n",
       "  <thead>\n",
       "    <tr style=\"text-align: right;\">\n",
       "      <th></th>\n",
       "      <th>Unnamed: 0</th>\n",
       "      <th>Id</th>\n",
       "      <th>MSSubClass</th>\n",
       "      <th>LotFrontage</th>\n",
       "      <th>LotArea</th>\n",
       "      <th>OverallQual</th>\n",
       "      <th>OverallCond</th>\n",
       "      <th>YearBuilt</th>\n",
       "      <th>YearRemodAdd</th>\n",
       "      <th>MasVnrArea</th>\n",
       "      <th>...</th>\n",
       "      <th>OpenPorchSF</th>\n",
       "      <th>EnclosedPorch</th>\n",
       "      <th>3SsnPorch</th>\n",
       "      <th>ScreenPorch</th>\n",
       "      <th>PoolArea</th>\n",
       "      <th>PoolQC</th>\n",
       "      <th>MiscVal</th>\n",
       "      <th>MoSold</th>\n",
       "      <th>YrSold</th>\n",
       "      <th>SalePrice</th>\n",
       "    </tr>\n",
       "  </thead>\n",
       "  <tbody>\n",
       "    <tr>\n",
       "      <th>count</th>\n",
       "      <td>100.000000</td>\n",
       "      <td>100.000000</td>\n",
       "      <td>100.000000</td>\n",
       "      <td>86.000000</td>\n",
       "      <td>100.000000</td>\n",
       "      <td>100.000000</td>\n",
       "      <td>100.00000</td>\n",
       "      <td>100.000000</td>\n",
       "      <td>100.000000</td>\n",
       "      <td>100.000000</td>\n",
       "      <td>...</td>\n",
       "      <td>100.000000</td>\n",
       "      <td>100.000000</td>\n",
       "      <td>100.000000</td>\n",
       "      <td>100.000000</td>\n",
       "      <td>100.0</td>\n",
       "      <td>0.0</td>\n",
       "      <td>100.000000</td>\n",
       "      <td>100.000000</td>\n",
       "      <td>100.00000</td>\n",
       "      <td>100.000000</td>\n",
       "    </tr>\n",
       "    <tr>\n",
       "      <th>mean</th>\n",
       "      <td>49.500000</td>\n",
       "      <td>50.500000</td>\n",
       "      <td>52.000000</td>\n",
       "      <td>71.406977</td>\n",
       "      <td>10115.870000</td>\n",
       "      <td>5.980000</td>\n",
       "      <td>5.50000</td>\n",
       "      <td>1971.410000</td>\n",
       "      <td>1983.920000</td>\n",
       "      <td>121.640000</td>\n",
       "      <td>...</td>\n",
       "      <td>46.900000</td>\n",
       "      <td>24.130000</td>\n",
       "      <td>7.270000</td>\n",
       "      <td>10.160000</td>\n",
       "      <td>0.0</td>\n",
       "      <td>NaN</td>\n",
       "      <td>46.300000</td>\n",
       "      <td>6.330000</td>\n",
       "      <td>2007.90000</td>\n",
       "      <td>173820.660000</td>\n",
       "    </tr>\n",
       "    <tr>\n",
       "      <th>std</th>\n",
       "      <td>29.011492</td>\n",
       "      <td>29.011492</td>\n",
       "      <td>42.545282</td>\n",
       "      <td>21.093840</td>\n",
       "      <td>5130.541763</td>\n",
       "      <td>1.530696</td>\n",
       "      <td>0.97959</td>\n",
       "      <td>29.373284</td>\n",
       "      <td>20.967353</td>\n",
       "      <td>213.553982</td>\n",
       "      <td>...</td>\n",
       "      <td>59.743306</td>\n",
       "      <td>60.211019</td>\n",
       "      <td>51.518724</td>\n",
       "      <td>46.908835</td>\n",
       "      <td>0.0</td>\n",
       "      <td>NaN</td>\n",
       "      <td>153.692958</td>\n",
       "      <td>3.048613</td>\n",
       "      <td>1.35959</td>\n",
       "      <td>72236.552886</td>\n",
       "    </tr>\n",
       "    <tr>\n",
       "      <th>min</th>\n",
       "      <td>0.000000</td>\n",
       "      <td>1.000000</td>\n",
       "      <td>20.000000</td>\n",
       "      <td>21.000000</td>\n",
       "      <td>1596.000000</td>\n",
       "      <td>3.000000</td>\n",
       "      <td>2.00000</td>\n",
       "      <td>1910.000000</td>\n",
       "      <td>1950.000000</td>\n",
       "      <td>0.000000</td>\n",
       "      <td>...</td>\n",
       "      <td>0.000000</td>\n",
       "      <td>0.000000</td>\n",
       "      <td>0.000000</td>\n",
       "      <td>0.000000</td>\n",
       "      <td>0.0</td>\n",
       "      <td>NaN</td>\n",
       "      <td>0.000000</td>\n",
       "      <td>1.000000</td>\n",
       "      <td>2006.00000</td>\n",
       "      <td>40000.000000</td>\n",
       "    </tr>\n",
       "    <tr>\n",
       "      <th>25%</th>\n",
       "      <td>24.750000</td>\n",
       "      <td>25.750000</td>\n",
       "      <td>20.000000</td>\n",
       "      <td>60.000000</td>\n",
       "      <td>7643.250000</td>\n",
       "      <td>5.000000</td>\n",
       "      <td>5.00000</td>\n",
       "      <td>1954.750000</td>\n",
       "      <td>1964.750000</td>\n",
       "      <td>0.000000</td>\n",
       "      <td>...</td>\n",
       "      <td>0.000000</td>\n",
       "      <td>0.000000</td>\n",
       "      <td>0.000000</td>\n",
       "      <td>0.000000</td>\n",
       "      <td>0.0</td>\n",
       "      <td>NaN</td>\n",
       "      <td>0.000000</td>\n",
       "      <td>4.750000</td>\n",
       "      <td>2007.00000</td>\n",
       "      <td>129362.500000</td>\n",
       "    </tr>\n",
       "    <tr>\n",
       "      <th>50%</th>\n",
       "      <td>49.500000</td>\n",
       "      <td>50.500000</td>\n",
       "      <td>45.000000</td>\n",
       "      <td>70.000000</td>\n",
       "      <td>9595.500000</td>\n",
       "      <td>6.000000</td>\n",
       "      <td>5.00000</td>\n",
       "      <td>1970.000000</td>\n",
       "      <td>1994.000000</td>\n",
       "      <td>0.000000</td>\n",
       "      <td>...</td>\n",
       "      <td>30.000000</td>\n",
       "      <td>0.000000</td>\n",
       "      <td>0.000000</td>\n",
       "      <td>0.000000</td>\n",
       "      <td>0.0</td>\n",
       "      <td>NaN</td>\n",
       "      <td>0.000000</td>\n",
       "      <td>6.000000</td>\n",
       "      <td>2008.00000</td>\n",
       "      <td>153750.000000</td>\n",
       "    </tr>\n",
       "    <tr>\n",
       "      <th>75%</th>\n",
       "      <td>74.250000</td>\n",
       "      <td>75.250000</td>\n",
       "      <td>60.000000</td>\n",
       "      <td>84.000000</td>\n",
       "      <td>11243.250000</td>\n",
       "      <td>7.000000</td>\n",
       "      <td>6.00000</td>\n",
       "      <td>2000.250000</td>\n",
       "      <td>2003.250000</td>\n",
       "      <td>188.500000</td>\n",
       "      <td>...</td>\n",
       "      <td>72.000000</td>\n",
       "      <td>0.000000</td>\n",
       "      <td>0.000000</td>\n",
       "      <td>0.000000</td>\n",
       "      <td>0.0</td>\n",
       "      <td>NaN</td>\n",
       "      <td>0.000000</td>\n",
       "      <td>8.000000</td>\n",
       "      <td>2009.00000</td>\n",
       "      <td>207750.000000</td>\n",
       "    </tr>\n",
       "    <tr>\n",
       "      <th>max</th>\n",
       "      <td>99.000000</td>\n",
       "      <td>100.000000</td>\n",
       "      <td>190.000000</td>\n",
       "      <td>122.000000</td>\n",
       "      <td>50271.000000</td>\n",
       "      <td>10.000000</td>\n",
       "      <td>8.00000</td>\n",
       "      <td>2009.000000</td>\n",
       "      <td>2009.000000</td>\n",
       "      <td>1115.000000</td>\n",
       "      <td>...</td>\n",
       "      <td>258.000000</td>\n",
       "      <td>272.000000</td>\n",
       "      <td>407.000000</td>\n",
       "      <td>291.000000</td>\n",
       "      <td>0.0</td>\n",
       "      <td>NaN</td>\n",
       "      <td>700.000000</td>\n",
       "      <td>12.000000</td>\n",
       "      <td>2010.00000</td>\n",
       "      <td>438780.000000</td>\n",
       "    </tr>\n",
       "  </tbody>\n",
       "</table>\n",
       "<p>8 rows × 40 columns</p>\n",
       "</div>"
      ],
      "text/plain": [
       "       Unnamed: 0          Id  MSSubClass  LotFrontage       LotArea  \\\n",
       "count  100.000000  100.000000  100.000000    86.000000    100.000000   \n",
       "mean    49.500000   50.500000   52.000000    71.406977  10115.870000   \n",
       "std     29.011492   29.011492   42.545282    21.093840   5130.541763   \n",
       "min      0.000000    1.000000   20.000000    21.000000   1596.000000   \n",
       "25%     24.750000   25.750000   20.000000    60.000000   7643.250000   \n",
       "50%     49.500000   50.500000   45.000000    70.000000   9595.500000   \n",
       "75%     74.250000   75.250000   60.000000    84.000000  11243.250000   \n",
       "max     99.000000  100.000000  190.000000   122.000000  50271.000000   \n",
       "\n",
       "       OverallQual  OverallCond    YearBuilt  YearRemodAdd   MasVnrArea  ...  \\\n",
       "count   100.000000    100.00000   100.000000    100.000000   100.000000  ...   \n",
       "mean      5.980000      5.50000  1971.410000   1983.920000   121.640000  ...   \n",
       "std       1.530696      0.97959    29.373284     20.967353   213.553982  ...   \n",
       "min       3.000000      2.00000  1910.000000   1950.000000     0.000000  ...   \n",
       "25%       5.000000      5.00000  1954.750000   1964.750000     0.000000  ...   \n",
       "50%       6.000000      5.00000  1970.000000   1994.000000     0.000000  ...   \n",
       "75%       7.000000      6.00000  2000.250000   2003.250000   188.500000  ...   \n",
       "max      10.000000      8.00000  2009.000000   2009.000000  1115.000000  ...   \n",
       "\n",
       "       OpenPorchSF  EnclosedPorch   3SsnPorch  ScreenPorch  PoolArea  PoolQC  \\\n",
       "count   100.000000     100.000000  100.000000   100.000000     100.0     0.0   \n",
       "mean     46.900000      24.130000    7.270000    10.160000       0.0     NaN   \n",
       "std      59.743306      60.211019   51.518724    46.908835       0.0     NaN   \n",
       "min       0.000000       0.000000    0.000000     0.000000       0.0     NaN   \n",
       "25%       0.000000       0.000000    0.000000     0.000000       0.0     NaN   \n",
       "50%      30.000000       0.000000    0.000000     0.000000       0.0     NaN   \n",
       "75%      72.000000       0.000000    0.000000     0.000000       0.0     NaN   \n",
       "max     258.000000     272.000000  407.000000   291.000000       0.0     NaN   \n",
       "\n",
       "          MiscVal      MoSold      YrSold      SalePrice  \n",
       "count  100.000000  100.000000   100.00000     100.000000  \n",
       "mean    46.300000    6.330000  2007.90000  173820.660000  \n",
       "std    153.692958    3.048613     1.35959   72236.552886  \n",
       "min      0.000000    1.000000  2006.00000   40000.000000  \n",
       "25%      0.000000    4.750000  2007.00000  129362.500000  \n",
       "50%      0.000000    6.000000  2008.00000  153750.000000  \n",
       "75%      0.000000    8.000000  2009.00000  207750.000000  \n",
       "max    700.000000   12.000000  2010.00000  438780.000000  \n",
       "\n",
       "[8 rows x 40 columns]"
      ]
     },
     "execution_count": 4,
     "metadata": {},
     "output_type": "execute_result"
    }
   ],
   "source": [
    "data.describe()"
   ]
  },
  {
   "cell_type": "code",
   "execution_count": 5,
   "metadata": {},
   "outputs": [
    {
     "data": {
      "text/html": [
       "<div>\n",
       "<style scoped>\n",
       "    .dataframe tbody tr th:only-of-type {\n",
       "        vertical-align: middle;\n",
       "    }\n",
       "\n",
       "    .dataframe tbody tr th {\n",
       "        vertical-align: top;\n",
       "    }\n",
       "\n",
       "    .dataframe thead th {\n",
       "        text-align: right;\n",
       "    }\n",
       "</style>\n",
       "<table border=\"1\" class=\"dataframe\">\n",
       "  <thead>\n",
       "    <tr style=\"text-align: right;\">\n",
       "      <th></th>\n",
       "      <th>Unnamed: 0</th>\n",
       "      <th>Id</th>\n",
       "      <th>MSSubClass</th>\n",
       "      <th>MSZoning</th>\n",
       "      <th>LotFrontage</th>\n",
       "      <th>LotArea</th>\n",
       "      <th>Street</th>\n",
       "      <th>Alley</th>\n",
       "      <th>LotShape</th>\n",
       "      <th>LandContour</th>\n",
       "      <th>...</th>\n",
       "      <th>PoolArea</th>\n",
       "      <th>PoolQC</th>\n",
       "      <th>Fence</th>\n",
       "      <th>MiscFeature</th>\n",
       "      <th>MiscVal</th>\n",
       "      <th>MoSold</th>\n",
       "      <th>YrSold</th>\n",
       "      <th>SaleType</th>\n",
       "      <th>SaleCondition</th>\n",
       "      <th>SalePrice</th>\n",
       "    </tr>\n",
       "  </thead>\n",
       "  <tbody>\n",
       "    <tr>\n",
       "      <th>0</th>\n",
       "      <td>0</td>\n",
       "      <td>1</td>\n",
       "      <td>60</td>\n",
       "      <td>RL</td>\n",
       "      <td>65.0</td>\n",
       "      <td>8450</td>\n",
       "      <td>Pave</td>\n",
       "      <td>NaN</td>\n",
       "      <td>Reg</td>\n",
       "      <td>Lvl</td>\n",
       "      <td>...</td>\n",
       "      <td>0</td>\n",
       "      <td>NaN</td>\n",
       "      <td>NaN</td>\n",
       "      <td>NaN</td>\n",
       "      <td>0</td>\n",
       "      <td>2</td>\n",
       "      <td>2008</td>\n",
       "      <td>WD</td>\n",
       "      <td>Normal</td>\n",
       "      <td>208500</td>\n",
       "    </tr>\n",
       "    <tr>\n",
       "      <th>1</th>\n",
       "      <td>1</td>\n",
       "      <td>2</td>\n",
       "      <td>20</td>\n",
       "      <td>RL</td>\n",
       "      <td>80.0</td>\n",
       "      <td>9600</td>\n",
       "      <td>Pave</td>\n",
       "      <td>NaN</td>\n",
       "      <td>Reg</td>\n",
       "      <td>Lvl</td>\n",
       "      <td>...</td>\n",
       "      <td>0</td>\n",
       "      <td>NaN</td>\n",
       "      <td>NaN</td>\n",
       "      <td>NaN</td>\n",
       "      <td>0</td>\n",
       "      <td>5</td>\n",
       "      <td>2007</td>\n",
       "      <td>WD</td>\n",
       "      <td>Normal</td>\n",
       "      <td>181500</td>\n",
       "    </tr>\n",
       "    <tr>\n",
       "      <th>2</th>\n",
       "      <td>2</td>\n",
       "      <td>3</td>\n",
       "      <td>60</td>\n",
       "      <td>RL</td>\n",
       "      <td>68.0</td>\n",
       "      <td>11250</td>\n",
       "      <td>Pave</td>\n",
       "      <td>NaN</td>\n",
       "      <td>IR1</td>\n",
       "      <td>Lvl</td>\n",
       "      <td>...</td>\n",
       "      <td>0</td>\n",
       "      <td>NaN</td>\n",
       "      <td>NaN</td>\n",
       "      <td>NaN</td>\n",
       "      <td>0</td>\n",
       "      <td>9</td>\n",
       "      <td>2008</td>\n",
       "      <td>WD</td>\n",
       "      <td>Normal</td>\n",
       "      <td>223500</td>\n",
       "    </tr>\n",
       "    <tr>\n",
       "      <th>3</th>\n",
       "      <td>3</td>\n",
       "      <td>4</td>\n",
       "      <td>70</td>\n",
       "      <td>RL</td>\n",
       "      <td>60.0</td>\n",
       "      <td>9550</td>\n",
       "      <td>Pave</td>\n",
       "      <td>NaN</td>\n",
       "      <td>IR1</td>\n",
       "      <td>Lvl</td>\n",
       "      <td>...</td>\n",
       "      <td>0</td>\n",
       "      <td>NaN</td>\n",
       "      <td>NaN</td>\n",
       "      <td>NaN</td>\n",
       "      <td>0</td>\n",
       "      <td>2</td>\n",
       "      <td>2006</td>\n",
       "      <td>WD</td>\n",
       "      <td>Abnorml</td>\n",
       "      <td>140000</td>\n",
       "    </tr>\n",
       "    <tr>\n",
       "      <th>4</th>\n",
       "      <td>4</td>\n",
       "      <td>5</td>\n",
       "      <td>60</td>\n",
       "      <td>RL</td>\n",
       "      <td>84.0</td>\n",
       "      <td>14260</td>\n",
       "      <td>Pave</td>\n",
       "      <td>NaN</td>\n",
       "      <td>IR1</td>\n",
       "      <td>Lvl</td>\n",
       "      <td>...</td>\n",
       "      <td>0</td>\n",
       "      <td>NaN</td>\n",
       "      <td>NaN</td>\n",
       "      <td>NaN</td>\n",
       "      <td>0</td>\n",
       "      <td>12</td>\n",
       "      <td>2008</td>\n",
       "      <td>WD</td>\n",
       "      <td>Normal</td>\n",
       "      <td>250000</td>\n",
       "    </tr>\n",
       "  </tbody>\n",
       "</table>\n",
       "<p>5 rows × 82 columns</p>\n",
       "</div>"
      ],
      "text/plain": [
       "   Unnamed: 0  Id  MSSubClass MSZoning  LotFrontage  LotArea Street Alley  \\\n",
       "0           0   1          60       RL         65.0     8450   Pave   NaN   \n",
       "1           1   2          20       RL         80.0     9600   Pave   NaN   \n",
       "2           2   3          60       RL         68.0    11250   Pave   NaN   \n",
       "3           3   4          70       RL         60.0     9550   Pave   NaN   \n",
       "4           4   5          60       RL         84.0    14260   Pave   NaN   \n",
       "\n",
       "  LotShape LandContour  ... PoolArea PoolQC Fence MiscFeature MiscVal MoSold  \\\n",
       "0      Reg         Lvl  ...        0    NaN   NaN         NaN       0      2   \n",
       "1      Reg         Lvl  ...        0    NaN   NaN         NaN       0      5   \n",
       "2      IR1         Lvl  ...        0    NaN   NaN         NaN       0      9   \n",
       "3      IR1         Lvl  ...        0    NaN   NaN         NaN       0      2   \n",
       "4      IR1         Lvl  ...        0    NaN   NaN         NaN       0     12   \n",
       "\n",
       "  YrSold SaleType  SaleCondition  SalePrice  \n",
       "0   2008       WD         Normal     208500  \n",
       "1   2007       WD         Normal     181500  \n",
       "2   2008       WD         Normal     223500  \n",
       "3   2006       WD        Abnorml     140000  \n",
       "4   2008       WD         Normal     250000  \n",
       "\n",
       "[5 rows x 82 columns]"
      ]
     },
     "execution_count": 5,
     "metadata": {},
     "output_type": "execute_result"
    }
   ],
   "source": [
    "train.head()"
   ]
  },
  {
   "cell_type": "code",
   "execution_count": 6,
   "metadata": {},
   "outputs": [
    {
     "data": {
      "text/plain": [
       "count       100.000000\n",
       "mean     173820.660000\n",
       "std       72236.552886\n",
       "min       40000.000000\n",
       "25%      129362.500000\n",
       "50%      153750.000000\n",
       "75%      207750.000000\n",
       "max      438780.000000\n",
       "Name: SalePrice, dtype: float64"
      ]
     },
     "execution_count": 6,
     "metadata": {},
     "output_type": "execute_result"
    }
   ],
   "source": [
    "salePrice = train['SalePrice']\n",
    "salePrice.describe()"
   ]
  },
  {
   "cell_type": "code",
   "execution_count": 7,
   "metadata": {},
   "outputs": [
    {
     "data": {
      "text/plain": [
       "(array([ 2., 17., 35., 17., 11.,  8.,  5.,  3.,  1.,  1.]),\n",
       " array([ 40000.,  79878., 119756., 159634., 199512., 239390., 279268.,\n",
       "        319146., 359024., 398902., 438780.]),\n",
       " <BarContainer object of 10 artists>)"
      ]
     },
     "execution_count": 7,
     "metadata": {},
     "output_type": "execute_result"
    },
    {
     "data": {
      "image/png": "[encoded data removed]",
      "text/plain": [
       "<Figure size 432x288 with 1 Axes>"
      ]
     },
     "metadata": {
      "needs_background": "light"
     },
     "output_type": "display_data"
    }
   ],
   "source": [
    "plt.hist(salePrice)"
   ]
  },
  {
   "cell_type": "markdown",
   "metadata": {},
   "source": [
    "Because the prices are skewed, the data will need to be scaled. The skew() function will return an unbiased skew."
   ]
  },
  {
   "cell_type": "code",
   "execution_count": 8,
   "metadata": {},
   "outputs": [
    {
     "data": {
      "image/png": "[encoded data removed]",
      "text/plain": [
       "<Figure size 432x288 with 1 Axes>"
      ]
     },
     "metadata": {
      "needs_background": "light"
     },
     "output_type": "display_data"
    }
   ],
   "source": [
    "plt.hist(np.log(salePrice))\n",
    "np.log(salePrice).skew()\n",
    "target = np.log(salePrice)"
   ]
  },
  {
   "cell_type": "code",
   "execution_count": 9,
   "metadata": {},
   "outputs": [
    {
     "data": {
      "text/plain": [
       "-0.09632240207755555"
      ]
     },
     "execution_count": 9,
     "metadata": {},
     "output_type": "execute_result"
    }
   ],
   "source": [
    "np.log(salePrice).skew()"
   ]
  },
  {
   "cell_type": "markdown",
   "metadata": {},
   "source": [
    "[Back to top](#Index)\n",
    "\n",
    "### 2.2 Data Exploration"
   ]
  },
  {
   "cell_type": "code",
   "execution_count": 10,
   "metadata": {},
   "outputs": [
    {
     "data": {
      "text/plain": [
       "(100, 40)"
      ]
     },
     "execution_count": 10,
     "metadata": {},
     "output_type": "execute_result"
    }
   ],
   "source": [
    "numeric = train.select_dtypes(include=[np.number])\n",
    "numeric.shape"
   ]
  },
  {
   "cell_type": "code",
   "execution_count": 11,
   "metadata": {},
   "outputs": [
    {
     "data": {
      "text/plain": [
       "Index(['SalePrice', 'OverallQual', 'GrLivArea', 'GarageArea', 'GarageCars',\n",
       "       'YearBuilt', 'TotalBsmtSF', 'GarageYrBlt', 'FullBath', 'MasVnrArea'],\n",
       "      dtype='object')"
      ]
     },
     "execution_count": 11,
     "metadata": {},
     "output_type": "execute_result"
    }
   ],
   "source": [
    "corr = numeric.corr()\n",
    "cols = corr['SalePrice'].sort_values(ascending=False)[0:10].index\n",
    "cols"
   ]
  },
  {
   "cell_type": "markdown",
   "metadata": {},
   "source": [
    "After the sale price, the top 9 correlating independent variables are listed."
   ]
  },
  {
   "cell_type": "code",
   "execution_count": 12,
   "metadata": {},
   "outputs": [
    {
     "data": {
      "text/html": [
       "<div>\n",
       "<style scoped>\n",
       "    .dataframe tbody tr th:only-of-type {\n",
       "        vertical-align: middle;\n",
       "    }\n",
       "\n",
       "    .dataframe tbody tr th {\n",
       "        vertical-align: top;\n",
       "    }\n",
       "\n",
       "    .dataframe thead th {\n",
       "        text-align: right;\n",
       "    }\n",
       "</style>\n",
       "<table border=\"1\" class=\"dataframe\">\n",
       "  <thead>\n",
       "    <tr style=\"text-align: right;\">\n",
       "      <th></th>\n",
       "      <th>OverallQual</th>\n",
       "      <th>GrLivArea</th>\n",
       "      <th>GarageArea</th>\n",
       "      <th>GarageCars</th>\n",
       "      <th>YearBuilt</th>\n",
       "      <th>TotalBsmtSF</th>\n",
       "      <th>GarageYrBlt</th>\n",
       "      <th>FullBath</th>\n",
       "      <th>MasVnrArea</th>\n",
       "    </tr>\n",
       "  </thead>\n",
       "  <tbody>\n",
       "    <tr>\n",
       "      <th>0</th>\n",
       "      <td>7</td>\n",
       "      <td>1710</td>\n",
       "      <td>548</td>\n",
       "      <td>2</td>\n",
       "      <td>2003</td>\n",
       "      <td>856</td>\n",
       "      <td>2003.0</td>\n",
       "      <td>2</td>\n",
       "      <td>196.0</td>\n",
       "    </tr>\n",
       "    <tr>\n",
       "      <th>1</th>\n",
       "      <td>6</td>\n",
       "      <td>1262</td>\n",
       "      <td>460</td>\n",
       "      <td>2</td>\n",
       "      <td>1976</td>\n",
       "      <td>1262</td>\n",
       "      <td>1976.0</td>\n",
       "      <td>2</td>\n",
       "      <td>0.0</td>\n",
       "    </tr>\n",
       "    <tr>\n",
       "      <th>2</th>\n",
       "      <td>7</td>\n",
       "      <td>1786</td>\n",
       "      <td>608</td>\n",
       "      <td>2</td>\n",
       "      <td>2001</td>\n",
       "      <td>920</td>\n",
       "      <td>2001.0</td>\n",
       "      <td>2</td>\n",
       "      <td>162.0</td>\n",
       "    </tr>\n",
       "    <tr>\n",
       "      <th>3</th>\n",
       "      <td>7</td>\n",
       "      <td>1717</td>\n",
       "      <td>642</td>\n",
       "      <td>3</td>\n",
       "      <td>1915</td>\n",
       "      <td>756</td>\n",
       "      <td>1998.0</td>\n",
       "      <td>1</td>\n",
       "      <td>0.0</td>\n",
       "    </tr>\n",
       "    <tr>\n",
       "      <th>4</th>\n",
       "      <td>8</td>\n",
       "      <td>2198</td>\n",
       "      <td>836</td>\n",
       "      <td>3</td>\n",
       "      <td>2000</td>\n",
       "      <td>1145</td>\n",
       "      <td>2000.0</td>\n",
       "      <td>2</td>\n",
       "      <td>350.0</td>\n",
       "    </tr>\n",
       "    <tr>\n",
       "      <th>...</th>\n",
       "      <td>...</td>\n",
       "      <td>...</td>\n",
       "      <td>...</td>\n",
       "      <td>...</td>\n",
       "      <td>...</td>\n",
       "      <td>...</td>\n",
       "      <td>...</td>\n",
       "      <td>...</td>\n",
       "      <td>...</td>\n",
       "    </tr>\n",
       "    <tr>\n",
       "      <th>95</th>\n",
       "      <td>6</td>\n",
       "      <td>1470</td>\n",
       "      <td>420</td>\n",
       "      <td>2</td>\n",
       "      <td>1993</td>\n",
       "      <td>680</td>\n",
       "      <td>1993.0</td>\n",
       "      <td>2</td>\n",
       "      <td>68.0</td>\n",
       "    </tr>\n",
       "    <tr>\n",
       "      <th>96</th>\n",
       "      <td>7</td>\n",
       "      <td>1588</td>\n",
       "      <td>472</td>\n",
       "      <td>2</td>\n",
       "      <td>1999</td>\n",
       "      <td>1588</td>\n",
       "      <td>1999.0</td>\n",
       "      <td>2</td>\n",
       "      <td>183.0</td>\n",
       "    </tr>\n",
       "    <tr>\n",
       "      <th>97</th>\n",
       "      <td>4</td>\n",
       "      <td>960</td>\n",
       "      <td>432</td>\n",
       "      <td>1</td>\n",
       "      <td>1965</td>\n",
       "      <td>960</td>\n",
       "      <td>1965.0</td>\n",
       "      <td>1</td>\n",
       "      <td>48.0</td>\n",
       "    </tr>\n",
       "    <tr>\n",
       "      <th>98</th>\n",
       "      <td>5</td>\n",
       "      <td>835</td>\n",
       "      <td>366</td>\n",
       "      <td>1</td>\n",
       "      <td>1920</td>\n",
       "      <td>458</td>\n",
       "      <td>1920.0</td>\n",
       "      <td>1</td>\n",
       "      <td>0.0</td>\n",
       "    </tr>\n",
       "    <tr>\n",
       "      <th>99</th>\n",
       "      <td>4</td>\n",
       "      <td>1225</td>\n",
       "      <td>0</td>\n",
       "      <td>0</td>\n",
       "      <td>1959</td>\n",
       "      <td>950</td>\n",
       "      <td>NaN</td>\n",
       "      <td>1</td>\n",
       "      <td>0.0</td>\n",
       "    </tr>\n",
       "  </tbody>\n",
       "</table>\n",
       "<p>100 rows × 9 columns</p>\n",
       "</div>"
      ],
      "text/plain": [
       "    OverallQual  GrLivArea  GarageArea  GarageCars  YearBuilt  TotalBsmtSF  \\\n",
       "0             7       1710         548           2       2003          856   \n",
       "1             6       1262         460           2       1976         1262   \n",
       "2             7       1786         608           2       2001          920   \n",
       "3             7       1717         642           3       1915          756   \n",
       "4             8       2198         836           3       2000         1145   \n",
       "..          ...        ...         ...         ...        ...          ...   \n",
       "95            6       1470         420           2       1993          680   \n",
       "96            7       1588         472           2       1999         1588   \n",
       "97            4        960         432           1       1965          960   \n",
       "98            5        835         366           1       1920          458   \n",
       "99            4       1225           0           0       1959          950   \n",
       "\n",
       "    GarageYrBlt  FullBath  MasVnrArea  \n",
       "0        2003.0         2       196.0  \n",
       "1        1976.0         2         0.0  \n",
       "2        2001.0         2       162.0  \n",
       "3        1998.0         1         0.0  \n",
       "4        2000.0         2       350.0  \n",
       "..          ...       ...         ...  \n",
       "95       1993.0         2        68.0  \n",
       "96       1999.0         2       183.0  \n",
       "97       1965.0         1        48.0  \n",
       "98       1920.0         1         0.0  \n",
       "99          NaN         1         0.0  \n",
       "\n",
       "[100 rows x 9 columns]"
      ]
     },
     "execution_count": 12,
     "metadata": {},
     "output_type": "execute_result"
    }
   ],
   "source": [
    "X = data[cols]\n",
    "Y = X['SalePrice']\n",
    "X = X.drop(['SalePrice'], axis = 1)\n",
    "X"
   ]
  },
  {
   "cell_type": "markdown",
   "metadata": {},
   "source": [
    "#### Data Description\n",
    "* OverallQual - Rates the overall material and finish of the house\n",
    "* GrLivArea - Above grade (ground) living area square feet\n",
    "* GarageArea - Size of garage in square feet\n",
    "* GarageCars - Size of garage in car capacity\n",
    "* YearBuilt - Original construction date\n",
    "* TotalBsmtSF - Total square feet of basement area\n",
    "* GarageYrBlt - Year garage was built\n",
    "* FullBath - Full bathrooms above grade\n",
    "* MasVnrArea - Masonry veneer area in square feet"
   ]
  },
  {
   "cell_type": "code",
   "execution_count": 13,
   "metadata": {},
   "outputs": [
    {
     "data": {
      "text/plain": [
       "<matplotlib.collections.PathCollection at 0x16cd9535708>"
      ]
     },
     "execution_count": 13,
     "metadata": {},
     "output_type": "execute_result"
    },
    {
     "data": {
      "image/png": "[encoded data removed]",
      "text/plain": [
       "<Figure size 432x288 with 1 Axes>"
      ]
     },
     "metadata": {
      "needs_background": "light"
     },
     "output_type": "display_data"
    }
   ],
   "source": [
    "plt.scatter(train['GrLivArea'],y=target)"
   ]
  },
  {
   "cell_type": "markdown",
   "metadata": {},
   "source": [
    "Ground level square footage has one of the strongest correlations."
   ]
  },
  {
   "cell_type": "code",
   "execution_count": 14,
   "metadata": {},
   "outputs": [
    {
     "data": {
      "text/plain": [
       "<matplotlib.collections.PathCollection at 0x16cd95ba888>"
      ]
     },
     "execution_count": 14,
     "metadata": {},
     "output_type": "execute_result"
    },
    {
     "data": {
      "image/png": "[encoded data removed]",
      "text/plain": [
       "<Figure size 432x288 with 1 Axes>"
      ]
     },
     "metadata": {
      "needs_background": "light"
     },
     "output_type": "display_data"
    }
   ],
   "source": [
    "plt.scatter(train['TotalBsmtSF'],y=target)"
   ]
  },
  {
   "cell_type": "markdown",
   "metadata": {},
   "source": [
    "Generally speaking, the more basement square footage as house has the higher the sale price will be."
   ]
  },
  {
   "cell_type": "code",
   "execution_count": 15,
   "metadata": {},
   "outputs": [
    {
     "data": {
      "text/plain": [
       "<matplotlib.collections.PathCollection at 0x16cd9636088>"
      ]
     },
     "execution_count": 15,
     "metadata": {},
     "output_type": "execute_result"
    },
    {
     "data": {
      "image/png": "[encoded data removed]",
      "text/plain": [
       "<Figure size 432x288 with 1 Axes>"
      ]
     },
     "metadata": {
      "needs_background": "light"
     },
     "output_type": "display_data"
    }
   ],
   "source": [
    "plt.scatter(train['FullBath'],y=target)"
   ]
  },
  {
   "cell_type": "markdown",
   "metadata": {},
   "source": [
    "Although full baths are measured discretely, a positive correlation is still evident within the graph."
   ]
  },
  {
   "cell_type": "markdown",
   "metadata": {},
   "source": [
    "[Back to top](#Index)\n",
    "\n",
    "### 2.3 Data Preparation\n",
    "\n",
    "Determine if there are any missing values in the data. Did the data need to be reshaped? If yes, include a description of the steps you followed to clean the data.\n"
   ]
  },
  {
   "cell_type": "code",
   "execution_count": 16,
   "metadata": {},
   "outputs": [
    {
     "data": {
      "text/plain": [
       "PoolQC         100\n",
       "Alley           94\n",
       "MiscFeature     91\n",
       "Fence           77\n",
       "FireplaceQu     54\n",
       "              ... \n",
       "MasVnrType       0\n",
       "Exterior2nd      0\n",
       "Exterior1st      0\n",
       "RoofMatl         0\n",
       "SalePrice        0\n",
       "Length: 82, dtype: int64"
      ]
     },
     "execution_count": 16,
     "metadata": {},
     "output_type": "execute_result"
    }
   ],
   "source": [
    "nulls = train.isnull().sum().sort_values(ascending=False)\n",
    "nulls"
   ]
  },
  {
   "cell_type": "code",
   "execution_count": 17,
   "metadata": {},
   "outputs": [
    {
     "data": {
      "text/plain": [
       "(100, 39)"
      ]
     },
     "execution_count": 17,
     "metadata": {},
     "output_type": "execute_result"
    }
   ],
   "source": [
    "data = train.select_dtypes(include=[np.number]).interpolate().dropna(axis=1)\n",
    "sum(data.isnull().sum() != 0)\n",
    "data.shape"
   ]
  },
  {
   "cell_type": "markdown",
   "metadata": {},
   "source": [
    "[Back to top](#Index)\n",
    "\n",
    "### 2.4 Correlation"
   ]
  },
  {
   "cell_type": "code",
   "execution_count": 18,
   "metadata": {},
   "outputs": [
    {
     "data": {
      "text/plain": [
       "Index(['SalePrice', 'OverallQual', 'GrLivArea', 'GarageArea', 'GarageCars',\n",
       "       'YearBuilt', 'TotalBsmtSF'],\n",
       "      dtype='object')"
      ]
     },
     "execution_count": 18,
     "metadata": {},
     "output_type": "execute_result"
    }
   ],
   "source": [
    "numeric = data.select_dtypes(include=[np.number])\n",
    "numeric.head()\n",
    "corr = numeric.corr()\n",
    "cols = corr['SalePrice'].sort_values(ascending=False)[0:7].index\n",
    "cols"
   ]
  },
  {
   "cell_type": "code",
   "execution_count": 19,
   "metadata": {},
   "outputs": [
    {
     "data": {
      "text/plain": [
       "SalePrice        1.000000\n",
       "OverallQual      0.855061\n",
       "GrLivArea        0.735129\n",
       "GarageArea       0.688249\n",
       "GarageCars       0.663441\n",
       "YearBuilt        0.658636\n",
       "TotalBsmtSF      0.616297\n",
       "GarageYrBlt      0.589361\n",
       "FullBath         0.579505\n",
       "MasVnrArea       0.571836\n",
       "TotRmsAbvGrd     0.553603\n",
       "1stFlrSF         0.550912\n",
       "YearRemodAdd     0.548330\n",
       "LotArea          0.497124\n",
       "Fireplaces       0.487907\n",
       "WoodDeckSF       0.451241\n",
       "2ndFlrSF         0.381076\n",
       "BsmtUnfSF        0.327020\n",
       "HalfBath         0.319304\n",
       "OpenPorchSF      0.301960\n",
       "LotFrontage      0.277853\n",
       "BsmtFinSF1       0.266713\n",
       "MoSold           0.256863\n",
       "BedroomAbvGr     0.233426\n",
       "BsmtFullBath     0.155689\n",
       "ScreenPorch      0.035930\n",
       "3SsnPorch       -0.019391\n",
       "BsmtHalfBath    -0.055100\n",
       "MSSubClass      -0.066819\n",
       "MiscVal         -0.134707\n",
       "BsmtFinSF2      -0.138126\n",
       "LowQualFinSF    -0.150027\n",
       "Id              -0.162735\n",
       "Unnamed: 0      -0.162735\n",
       "OverallCond     -0.170443\n",
       "EnclosedPorch   -0.233483\n",
       "KitchenAbvGr    -0.235659\n",
       "YrSold          -0.262683\n",
       "PoolArea              NaN\n",
       "Name: SalePrice, dtype: float64"
      ]
     },
     "execution_count": 19,
     "metadata": {},
     "output_type": "execute_result"
    }
   ],
   "source": [
    "corr['SalePrice'].sort_values(ascending=False)"
   ]
  },
  {
   "cell_type": "code",
   "execution_count": 20,
   "metadata": {},
   "outputs": [
    {
     "data": {
      "text/html": [
       "<div>\n",
       "<style scoped>\n",
       "    .dataframe tbody tr th:only-of-type {\n",
       "        vertical-align: middle;\n",
       "    }\n",
       "\n",
       "    .dataframe tbody tr th {\n",
       "        vertical-align: top;\n",
       "    }\n",
       "\n",
       "    .dataframe thead th {\n",
       "        text-align: right;\n",
       "    }\n",
       "</style>\n",
       "<table border=\"1\" class=\"dataframe\">\n",
       "  <thead>\n",
       "    <tr style=\"text-align: right;\">\n",
       "      <th></th>\n",
       "      <th>OverallQual</th>\n",
       "      <th>GrLivArea</th>\n",
       "      <th>GarageArea</th>\n",
       "      <th>GarageCars</th>\n",
       "      <th>YearBuilt</th>\n",
       "      <th>TotalBsmtSF</th>\n",
       "    </tr>\n",
       "  </thead>\n",
       "  <tbody>\n",
       "    <tr>\n",
       "      <th>0</th>\n",
       "      <td>7</td>\n",
       "      <td>1710</td>\n",
       "      <td>548</td>\n",
       "      <td>2</td>\n",
       "      <td>2003</td>\n",
       "      <td>856</td>\n",
       "    </tr>\n",
       "    <tr>\n",
       "      <th>1</th>\n",
       "      <td>6</td>\n",
       "      <td>1262</td>\n",
       "      <td>460</td>\n",
       "      <td>2</td>\n",
       "      <td>1976</td>\n",
       "      <td>1262</td>\n",
       "    </tr>\n",
       "    <tr>\n",
       "      <th>2</th>\n",
       "      <td>7</td>\n",
       "      <td>1786</td>\n",
       "      <td>608</td>\n",
       "      <td>2</td>\n",
       "      <td>2001</td>\n",
       "      <td>920</td>\n",
       "    </tr>\n",
       "    <tr>\n",
       "      <th>3</th>\n",
       "      <td>7</td>\n",
       "      <td>1717</td>\n",
       "      <td>642</td>\n",
       "      <td>3</td>\n",
       "      <td>1915</td>\n",
       "      <td>756</td>\n",
       "    </tr>\n",
       "    <tr>\n",
       "      <th>4</th>\n",
       "      <td>8</td>\n",
       "      <td>2198</td>\n",
       "      <td>836</td>\n",
       "      <td>3</td>\n",
       "      <td>2000</td>\n",
       "      <td>1145</td>\n",
       "    </tr>\n",
       "    <tr>\n",
       "      <th>...</th>\n",
       "      <td>...</td>\n",
       "      <td>...</td>\n",
       "      <td>...</td>\n",
       "      <td>...</td>\n",
       "      <td>...</td>\n",
       "      <td>...</td>\n",
       "    </tr>\n",
       "    <tr>\n",
       "      <th>95</th>\n",
       "      <td>6</td>\n",
       "      <td>1470</td>\n",
       "      <td>420</td>\n",
       "      <td>2</td>\n",
       "      <td>1993</td>\n",
       "      <td>680</td>\n",
       "    </tr>\n",
       "    <tr>\n",
       "      <th>96</th>\n",
       "      <td>7</td>\n",
       "      <td>1588</td>\n",
       "      <td>472</td>\n",
       "      <td>2</td>\n",
       "      <td>1999</td>\n",
       "      <td>1588</td>\n",
       "    </tr>\n",
       "    <tr>\n",
       "      <th>97</th>\n",
       "      <td>4</td>\n",
       "      <td>960</td>\n",
       "      <td>432</td>\n",
       "      <td>1</td>\n",
       "      <td>1965</td>\n",
       "      <td>960</td>\n",
       "    </tr>\n",
       "    <tr>\n",
       "      <th>98</th>\n",
       "      <td>5</td>\n",
       "      <td>835</td>\n",
       "      <td>366</td>\n",
       "      <td>1</td>\n",
       "      <td>1920</td>\n",
       "      <td>458</td>\n",
       "    </tr>\n",
       "    <tr>\n",
       "      <th>99</th>\n",
       "      <td>4</td>\n",
       "      <td>1225</td>\n",
       "      <td>0</td>\n",
       "      <td>0</td>\n",
       "      <td>1959</td>\n",
       "      <td>950</td>\n",
       "    </tr>\n",
       "  </tbody>\n",
       "</table>\n",
       "<p>100 rows × 6 columns</p>\n",
       "</div>"
      ],
      "text/plain": [
       "    OverallQual  GrLivArea  GarageArea  GarageCars  YearBuilt  TotalBsmtSF\n",
       "0             7       1710         548           2       2003          856\n",
       "1             6       1262         460           2       1976         1262\n",
       "2             7       1786         608           2       2001          920\n",
       "3             7       1717         642           3       1915          756\n",
       "4             8       2198         836           3       2000         1145\n",
       "..          ...        ...         ...         ...        ...          ...\n",
       "95            6       1470         420           2       1993          680\n",
       "96            7       1588         472           2       1999         1588\n",
       "97            4        960         432           1       1965          960\n",
       "98            5        835         366           1       1920          458\n",
       "99            4       1225           0           0       1959          950\n",
       "\n",
       "[100 rows x 6 columns]"
      ]
     },
     "execution_count": 20,
     "metadata": {},
     "output_type": "execute_result"
    }
   ],
   "source": [
    "X = data[cols]\n",
    "Y = X['SalePrice']\n",
    "X = X.drop(['SalePrice'], axis = 1)\n",
    "X"
   ]
  },
  {
   "cell_type": "markdown",
   "metadata": {},
   "source": [
    "\n",
    "[Back to top](#Index)\n",
    "\n",
    "## 3. Project Description\n",
    "\n",
    "To achieve a higher level of accuracy then the model used in the example, a larger number of independent variables with high correlations were used in this project's model.\n"
   ]
  },
  {
   "cell_type": "markdown",
   "metadata": {},
   "source": [
    "[Back to top](#Index)\n",
    "\n",
    "### 3.1 Linear Regression\n",
    "\n",
    "Linear regression is a machine learning algorithm that is used to predict values within a continuous range (i.e., stocks’ price and height) rather than classifying them into categories (i.e., male or female).\n",
    "\n",
    "The values that you want to predict are the dependent variable(s). The predictions can be made using one or more independent variables.\n",
    "\n",
    "The equation for multiple linear regression is:\n",
    "\n",
    "$$Y=X_1\\beta_1+X_2\\beta_2+X_3\\beta_3 ...$$\n",
    "\n",
    "where $x_1,x_2,...,x_n$ represent the data points of all the independent variables used to make the prediction, $m_1,m_2,...,m_n$ are the weights, and b is the bias.\n",
    "\n",
    "Mini-Lesson 7.1"
   ]
  },
  {
   "cell_type": "code",
   "execution_count": 21,
   "metadata": {},
   "outputs": [
    {
     "name": "stdout",
     "output_type": "stream",
     "text": [
      "R^2 is: 0.8489694682378784\n"
     ]
    }
   ],
   "source": [
    "from sklearn import linear_model\n",
    "lr = linear_model.LinearRegression()\n",
    "model = lr.fit(X,Y)\n",
    "predictions = model.predict(X)\n",
    "print(f\"R^2 is: {model.score(X,Y)}\")"
   ]
  },
  {
   "cell_type": "markdown",
   "metadata": {},
   "source": [
    "### 85% of prices are explained by this set of variables."
   ]
  },
  {
   "cell_type": "code",
   "execution_count": 22,
   "metadata": {},
   "outputs": [
    {
     "data": {
      "text/plain": [
       "(array([ 2.,  5.,  7., 28., 27., 15., 11.,  2.,  1.,  2.]),\n",
       " array([-74467.30462331, -57521.04396945, -40574.78331559, -23628.52266173,\n",
       "         -6682.26200787,  10263.99864599,  27210.25929985,  44156.51995371,\n",
       "         61102.78060757,  78049.04126143,  94995.30191529]),\n",
       " <BarContainer object of 10 artists>)"
      ]
     },
     "execution_count": 22,
     "metadata": {},
     "output_type": "execute_result"
    },
    {
     "data": {
      "image/png": "[encoded data removed]",
      "text/plain": [
       "<Figure size 432x288 with 1 Axes>"
      ]
     },
     "metadata": {
      "needs_background": "light"
     },
     "output_type": "display_data"
    }
   ],
   "source": [
    "plt.hist(Y - predictions)"
   ]
  },
  {
   "cell_type": "code",
   "execution_count": 23,
   "metadata": {},
   "outputs": [
    {
     "data": {
      "text/plain": [
       "<matplotlib.collections.PathCollection at 0x16cd9d4a348>"
      ]
     },
     "execution_count": 23,
     "metadata": {},
     "output_type": "execute_result"
    },
    {
     "data": {
      "image/png": "[encoded data removed]",
      "text/plain": [
       "<Figure size 432x288 with 1 Axes>"
      ]
     },
     "metadata": {
      "needs_background": "light"
     },
     "output_type": "display_data"
    }
   ],
   "source": [
    "plt.scatter(predictions, Y, color = 'r')"
   ]
  },
  {
   "cell_type": "markdown",
   "metadata": {},
   "source": [
    "[Back to top](#Index)\n",
    "\n",
    "### 3.2 Analysis "
   ]
  },
  {
   "cell_type": "code",
   "execution_count": 24,
   "metadata": {},
   "outputs": [
    {
     "data": {
      "text/html": [
       "<div>\n",
       "<style scoped>\n",
       "    .dataframe tbody tr th:only-of-type {\n",
       "        vertical-align: middle;\n",
       "    }\n",
       "\n",
       "    .dataframe tbody tr th {\n",
       "        vertical-align: top;\n",
       "    }\n",
       "\n",
       "    .dataframe thead th {\n",
       "        text-align: right;\n",
       "    }\n",
       "</style>\n",
       "<table border=\"1\" class=\"dataframe\">\n",
       "  <thead>\n",
       "    <tr style=\"text-align: right;\">\n",
       "      <th></th>\n",
       "      <th>FullBath</th>\n",
       "      <th>MasVnrArea</th>\n",
       "      <th>1stFlrSF</th>\n",
       "    </tr>\n",
       "  </thead>\n",
       "  <tbody>\n",
       "    <tr>\n",
       "      <th>0</th>\n",
       "      <td>2</td>\n",
       "      <td>196.0</td>\n",
       "      <td>856</td>\n",
       "    </tr>\n",
       "    <tr>\n",
       "      <th>1</th>\n",
       "      <td>2</td>\n",
       "      <td>0.0</td>\n",
       "      <td>1262</td>\n",
       "    </tr>\n",
       "    <tr>\n",
       "      <th>2</th>\n",
       "      <td>2</td>\n",
       "      <td>162.0</td>\n",
       "      <td>920</td>\n",
       "    </tr>\n",
       "    <tr>\n",
       "      <th>3</th>\n",
       "      <td>1</td>\n",
       "      <td>0.0</td>\n",
       "      <td>961</td>\n",
       "    </tr>\n",
       "    <tr>\n",
       "      <th>4</th>\n",
       "      <td>2</td>\n",
       "      <td>350.0</td>\n",
       "      <td>1145</td>\n",
       "    </tr>\n",
       "    <tr>\n",
       "      <th>...</th>\n",
       "      <td>...</td>\n",
       "      <td>...</td>\n",
       "      <td>...</td>\n",
       "    </tr>\n",
       "    <tr>\n",
       "      <th>95</th>\n",
       "      <td>2</td>\n",
       "      <td>68.0</td>\n",
       "      <td>680</td>\n",
       "    </tr>\n",
       "    <tr>\n",
       "      <th>96</th>\n",
       "      <td>2</td>\n",
       "      <td>183.0</td>\n",
       "      <td>1588</td>\n",
       "    </tr>\n",
       "    <tr>\n",
       "      <th>97</th>\n",
       "      <td>1</td>\n",
       "      <td>48.0</td>\n",
       "      <td>960</td>\n",
       "    </tr>\n",
       "    <tr>\n",
       "      <th>98</th>\n",
       "      <td>1</td>\n",
       "      <td>0.0</td>\n",
       "      <td>835</td>\n",
       "    </tr>\n",
       "    <tr>\n",
       "      <th>99</th>\n",
       "      <td>1</td>\n",
       "      <td>0.0</td>\n",
       "      <td>1225</td>\n",
       "    </tr>\n",
       "  </tbody>\n",
       "</table>\n",
       "<p>100 rows × 3 columns</p>\n",
       "</div>"
      ],
      "text/plain": [
       "    FullBath  MasVnrArea  1stFlrSF\n",
       "0          2       196.0       856\n",
       "1          2         0.0      1262\n",
       "2          2       162.0       920\n",
       "3          1         0.0       961\n",
       "4          2       350.0      1145\n",
       "..       ...         ...       ...\n",
       "95         2        68.0       680\n",
       "96         2       183.0      1588\n",
       "97         1        48.0       960\n",
       "98         1         0.0       835\n",
       "99         1         0.0      1225\n",
       "\n",
       "[100 rows x 3 columns]"
      ]
     },
     "execution_count": 24,
     "metadata": {},
     "output_type": "execute_result"
    }
   ],
   "source": [
    "# establishing the second group of variables qty:3\n",
    "second_set = corr['SalePrice'].sort_values(ascending=False)[['SalePrice','FullBath','MasVnrArea','1stFlrSF']].index\n",
    "B = data[second_set]\n",
    "B = B.drop(['SalePrice'], axis = 1)\n",
    "\n",
    "# establishing the third set of independent variables qty:4\n",
    "thd_set = corr['SalePrice'].sort_values(ascending=False)[0:5].index\n",
    "C = data[thd_set]\n",
    "C = C.drop(['SalePrice'], axis = 1)\n",
    "\n",
    "B"
   ]
  },
  {
   "cell_type": "code",
   "execution_count": 25,
   "metadata": {},
   "outputs": [
    {
     "data": {
      "text/html": [
       "<div>\n",
       "<style scoped>\n",
       "    .dataframe tbody tr th:only-of-type {\n",
       "        vertical-align: middle;\n",
       "    }\n",
       "\n",
       "    .dataframe tbody tr th {\n",
       "        vertical-align: top;\n",
       "    }\n",
       "\n",
       "    .dataframe thead th {\n",
       "        text-align: right;\n",
       "    }\n",
       "</style>\n",
       "<table border=\"1\" class=\"dataframe\">\n",
       "  <thead>\n",
       "    <tr style=\"text-align: right;\">\n",
       "      <th></th>\n",
       "      <th>OverallQual</th>\n",
       "      <th>GrLivArea</th>\n",
       "      <th>GarageArea</th>\n",
       "      <th>GarageCars</th>\n",
       "    </tr>\n",
       "  </thead>\n",
       "  <tbody>\n",
       "    <tr>\n",
       "      <th>0</th>\n",
       "      <td>7</td>\n",
       "      <td>1710</td>\n",
       "      <td>548</td>\n",
       "      <td>2</td>\n",
       "    </tr>\n",
       "    <tr>\n",
       "      <th>1</th>\n",
       "      <td>6</td>\n",
       "      <td>1262</td>\n",
       "      <td>460</td>\n",
       "      <td>2</td>\n",
       "    </tr>\n",
       "    <tr>\n",
       "      <th>2</th>\n",
       "      <td>7</td>\n",
       "      <td>1786</td>\n",
       "      <td>608</td>\n",
       "      <td>2</td>\n",
       "    </tr>\n",
       "    <tr>\n",
       "      <th>3</th>\n",
       "      <td>7</td>\n",
       "      <td>1717</td>\n",
       "      <td>642</td>\n",
       "      <td>3</td>\n",
       "    </tr>\n",
       "    <tr>\n",
       "      <th>4</th>\n",
       "      <td>8</td>\n",
       "      <td>2198</td>\n",
       "      <td>836</td>\n",
       "      <td>3</td>\n",
       "    </tr>\n",
       "    <tr>\n",
       "      <th>...</th>\n",
       "      <td>...</td>\n",
       "      <td>...</td>\n",
       "      <td>...</td>\n",
       "      <td>...</td>\n",
       "    </tr>\n",
       "    <tr>\n",
       "      <th>95</th>\n",
       "      <td>6</td>\n",
       "      <td>1470</td>\n",
       "      <td>420</td>\n",
       "      <td>2</td>\n",
       "    </tr>\n",
       "    <tr>\n",
       "      <th>96</th>\n",
       "      <td>7</td>\n",
       "      <td>1588</td>\n",
       "      <td>472</td>\n",
       "      <td>2</td>\n",
       "    </tr>\n",
       "    <tr>\n",
       "      <th>97</th>\n",
       "      <td>4</td>\n",
       "      <td>960</td>\n",
       "      <td>432</td>\n",
       "      <td>1</td>\n",
       "    </tr>\n",
       "    <tr>\n",
       "      <th>98</th>\n",
       "      <td>5</td>\n",
       "      <td>835</td>\n",
       "      <td>366</td>\n",
       "      <td>1</td>\n",
       "    </tr>\n",
       "    <tr>\n",
       "      <th>99</th>\n",
       "      <td>4</td>\n",
       "      <td>1225</td>\n",
       "      <td>0</td>\n",
       "      <td>0</td>\n",
       "    </tr>\n",
       "  </tbody>\n",
       "</table>\n",
       "<p>100 rows × 4 columns</p>\n",
       "</div>"
      ],
      "text/plain": [
       "    OverallQual  GrLivArea  GarageArea  GarageCars\n",
       "0             7       1710         548           2\n",
       "1             6       1262         460           2\n",
       "2             7       1786         608           2\n",
       "3             7       1717         642           3\n",
       "4             8       2198         836           3\n",
       "..          ...        ...         ...         ...\n",
       "95            6       1470         420           2\n",
       "96            7       1588         472           2\n",
       "97            4        960         432           1\n",
       "98            5        835         366           1\n",
       "99            4       1225           0           0\n",
       "\n",
       "[100 rows x 4 columns]"
      ]
     },
     "execution_count": 25,
     "metadata": {},
     "output_type": "execute_result"
    }
   ],
   "source": [
    "C"
   ]
  },
  {
   "cell_type": "markdown",
   "metadata": {},
   "source": [
    "[Back to top](#Index)\n",
    "\n",
    "### 3.3 Results"
   ]
  },
  {
   "cell_type": "code",
   "execution_count": 26,
   "metadata": {},
   "outputs": [
    {
     "name": "stdout",
     "output_type": "stream",
     "text": [
      "R^2 is: 0.5431129246736685\n"
     ]
    }
   ],
   "source": [
    "# the model takes in the second set of variables as input\n",
    "snd_model = lr.fit(B,Y)\n",
    "predictions = snd_model.predict(B)\n",
    "print(f\"R^2 is: {snd_model.score(B,Y)}\")"
   ]
  },
  {
   "cell_type": "code",
   "execution_count": 27,
   "metadata": {},
   "outputs": [
    {
     "name": "stdout",
     "output_type": "stream",
     "text": [
      "R^2 is: 0.7916699059969976\n"
     ]
    }
   ],
   "source": [
    "# the model takes in the third set of variables as input\n",
    "thd_model = lr.fit(C,Y)\n",
    "predictions = thd_model.predict(C)\n",
    "print(f\"R^2 is: {thd_model.score(C,Y)}\")"
   ]
  },
  {
   "cell_type": "markdown",
   "metadata": {},
   "source": [
    "The second and third models tested contained smaller sets of variables, quantities of 3 and 4 respectively. I wanted to see if it was possible to return better results from the models with fewer independent variables. This was not the case as the latter models under-performed significantly."
   ]
  },
  {
   "cell_type": "markdown",
   "metadata": {},
   "source": [
    "[Back to top](#Index)\n",
    "\n",
    "### 3.4 Verify Your Model Against Test Data"
   ]
  },
  {
   "cell_type": "code",
   "execution_count": 28,
   "metadata": {},
   "outputs": [
    {
     "data": {
      "text/html": [
       "<div>\n",
       "<style scoped>\n",
       "    .dataframe tbody tr th:only-of-type {\n",
       "        vertical-align: middle;\n",
       "    }\n",
       "\n",
       "    .dataframe tbody tr th {\n",
       "        vertical-align: top;\n",
       "    }\n",
       "\n",
       "    .dataframe thead th {\n",
       "        text-align: right;\n",
       "    }\n",
       "</style>\n",
       "<table border=\"1\" class=\"dataframe\">\n",
       "  <thead>\n",
       "    <tr style=\"text-align: right;\">\n",
       "      <th></th>\n",
       "      <th>OverallQual</th>\n",
       "      <th>GrLivArea</th>\n",
       "      <th>GarageArea</th>\n",
       "      <th>GarageCars</th>\n",
       "      <th>YearBuilt</th>\n",
       "      <th>TotalBsmtSF</th>\n",
       "    </tr>\n",
       "  </thead>\n",
       "  <tbody>\n",
       "    <tr>\n",
       "      <th>0</th>\n",
       "      <td>6</td>\n",
       "      <td>1610</td>\n",
       "      <td>480</td>\n",
       "      <td>2</td>\n",
       "      <td>1977</td>\n",
       "      <td>1610</td>\n",
       "    </tr>\n",
       "    <tr>\n",
       "      <th>1</th>\n",
       "      <td>6</td>\n",
       "      <td>1732</td>\n",
       "      <td>476</td>\n",
       "      <td>2</td>\n",
       "      <td>1985</td>\n",
       "      <td>741</td>\n",
       "    </tr>\n",
       "    <tr>\n",
       "      <th>2</th>\n",
       "      <td>5</td>\n",
       "      <td>1535</td>\n",
       "      <td>410</td>\n",
       "      <td>2</td>\n",
       "      <td>1979</td>\n",
       "      <td>0</td>\n",
       "    </tr>\n",
       "    <tr>\n",
       "      <th>3</th>\n",
       "      <td>7</td>\n",
       "      <td>1226</td>\n",
       "      <td>740</td>\n",
       "      <td>3</td>\n",
       "      <td>2009</td>\n",
       "      <td>1226</td>\n",
       "    </tr>\n",
       "    <tr>\n",
       "      <th>4</th>\n",
       "      <td>7</td>\n",
       "      <td>1818</td>\n",
       "      <td>240</td>\n",
       "      <td>1</td>\n",
       "      <td>1931</td>\n",
       "      <td>1040</td>\n",
       "    </tr>\n",
       "    <tr>\n",
       "      <th>...</th>\n",
       "      <td>...</td>\n",
       "      <td>...</td>\n",
       "      <td>...</td>\n",
       "      <td>...</td>\n",
       "      <td>...</td>\n",
       "      <td>...</td>\n",
       "    </tr>\n",
       "    <tr>\n",
       "      <th>95</th>\n",
       "      <td>6</td>\n",
       "      <td>1456</td>\n",
       "      <td>440</td>\n",
       "      <td>2</td>\n",
       "      <td>1976</td>\n",
       "      <td>855</td>\n",
       "    </tr>\n",
       "    <tr>\n",
       "      <th>96</th>\n",
       "      <td>7</td>\n",
       "      <td>1726</td>\n",
       "      <td>786</td>\n",
       "      <td>3</td>\n",
       "      <td>2007</td>\n",
       "      <td>1726</td>\n",
       "    </tr>\n",
       "    <tr>\n",
       "      <th>97</th>\n",
       "      <td>8</td>\n",
       "      <td>3112</td>\n",
       "      <td>795</td>\n",
       "      <td>2</td>\n",
       "      <td>1918</td>\n",
       "      <td>1360</td>\n",
       "    </tr>\n",
       "    <tr>\n",
       "      <th>98</th>\n",
       "      <td>6</td>\n",
       "      <td>2229</td>\n",
       "      <td>0</td>\n",
       "      <td>0</td>\n",
       "      <td>1912</td>\n",
       "      <td>755</td>\n",
       "    </tr>\n",
       "    <tr>\n",
       "      <th>99</th>\n",
       "      <td>8</td>\n",
       "      <td>1713</td>\n",
       "      <td>856</td>\n",
       "      <td>3</td>\n",
       "      <td>2004</td>\n",
       "      <td>1713</td>\n",
       "    </tr>\n",
       "  </tbody>\n",
       "</table>\n",
       "<p>100 rows × 6 columns</p>\n",
       "</div>"
      ],
      "text/plain": [
       "    OverallQual  GrLivArea  GarageArea  GarageCars  YearBuilt  TotalBsmtSF\n",
       "0             6       1610         480           2       1977         1610\n",
       "1             6       1732         476           2       1985          741\n",
       "2             5       1535         410           2       1979            0\n",
       "3             7       1226         740           3       2009         1226\n",
       "4             7       1818         240           1       1931         1040\n",
       "..          ...        ...         ...         ...        ...          ...\n",
       "95            6       1456         440           2       1976          855\n",
       "96            7       1726         786           3       2007         1726\n",
       "97            8       3112         795           2       1918         1360\n",
       "98            6       2229           0           0       1912          755\n",
       "99            8       1713         856           3       2004         1713\n",
       "\n",
       "[100 rows x 6 columns]"
      ]
     },
     "execution_count": 28,
     "metadata": {},
     "output_type": "execute_result"
    }
   ],
   "source": [
    "test = pd.read_csv('jtest/jtest.csv')\n",
    "X = test[cols]\n",
    "Y = X['SalePrice']\n",
    "X = X.drop(['SalePrice'], axis = 1)\n",
    "X"
   ]
  },
  {
   "cell_type": "code",
   "execution_count": 33,
   "metadata": {},
   "outputs": [
    {
     "name": "stdout",
     "output_type": "stream",
     "text": [
      "R^2 is: -0.9680394844773688\n"
     ]
    }
   ],
   "source": [
    "predictions = model.predict(C)\n",
    "print(f\"R^2 is: {model.score(C,Y)}\")"
   ]
  },
  {
   "cell_type": "markdown",
   "metadata": {},
   "source": [
    "[Back to top](#Index)\n",
    "\n",
    "## Conclusion\n",
    "\n",
    "The first model containing the top 6 correlating variables performed the best when explaining sales prices. The number of variables within the model appears to be a key factor in making predictions. Selecting the top ranked correlators also had a major effect on the model's performance."
   ]
  },
  {
   "cell_type": "markdown",
   "metadata": {},
   "source": [
    "\n",
    "[Back to top](#Index\n",
    ")"
   ]
  }
 ],
 "metadata": {
  "kernelspec": {
   "display_name": "Python 3.10.4 64-bit",
   "language": "python",
   "name": "python3"
  },
  "language_info": {
   "codemirror_mode": {
    "name": "ipython",
    "version": 3
   },
   "file_extension": ".py",
   "mimetype": "text/x-python",
   "name": "python",
   "nbconvert_exporter": "python",
   "pygments_lexer": "ipython3",
   "version": "3.10.4"
  },
  "vscode": {
   "interpreter": {
    "hash": "2062cc87de9fb55535cca9844507a47b3f552bfebb5ac26a221023bf2ac4a711"
   }
  }
 },
 "nbformat": 4,
 "nbformat_minor": 4
}
